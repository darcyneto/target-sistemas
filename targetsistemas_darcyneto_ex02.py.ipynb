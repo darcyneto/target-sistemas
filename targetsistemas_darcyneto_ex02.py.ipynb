{
  "nbformat": 4,
  "nbformat_minor": 0,
  "metadata": {
    "colab": {
      "provenance": []
    },
    "kernelspec": {
      "name": "python3",
      "display_name": "Python 3"
    },
    "language_info": {
      "name": "python"
    }
  },
  "cells": [
    {
      "cell_type": "code",
      "execution_count": 1,
      "metadata": {
        "colab": {
          "base_uri": "https://localhost:8080/"
        },
        "id": "1P417ChDx2DR",
        "outputId": "8cda9776-3634-4620-e92b-7f3c964125d8"
      },
      "outputs": [
        {
          "output_type": "stream",
          "name": "stdout",
          "text": [
            "A letra 'a' aparece 6 vezes na string.\n"
          ]
        }
      ],
      "source": [
        "def count_letras_a(string):\n",
        "    # Contagem de letras 'a' minúsculas e maiúsculas\n",
        "    count = string.lower().count('a')\n",
        "\n",
        "    # Verificação da existência e contagem de letras\n",
        "    if count > 0:\n",
        "        print(f\"A letra 'a' aparece {count} vezes na string.\")\n",
        "    else:\n",
        "        print(\"A letra 'a' não aparece na string.\")\n",
        "\n",
        "input_string = \"Quero trabalhar na Target Sistemas.\"\n",
        "count_letras_a(input_string)\n"
      ]
    }
  ]
}