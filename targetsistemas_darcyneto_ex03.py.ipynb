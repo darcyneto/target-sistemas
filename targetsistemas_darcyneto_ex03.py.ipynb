{
  "nbformat": 4,
  "nbformat_minor": 0,
  "metadata": {
    "colab": {
      "provenance": []
    },
    "kernelspec": {
      "name": "python3",
      "display_name": "Python 3"
    },
    "language_info": {
      "name": "python"
    }
  },
  "cells": [
    {
      "cell_type": "code",
      "execution_count": 1,
      "metadata": {
        "colab": {
          "base_uri": "https://localhost:8080/",
          "height": 106
        },
        "id": "Y_IZcs4-y-Xn",
        "outputId": "c7fb0bb6-f2fc-448c-812d-a7402745bcf1"
      },
      "outputs": [
        {
          "output_type": "error",
          "ename": "SyntaxError",
          "evalue": "invalid syntax (<ipython-input-1-c6830012862b>, line 1)",
          "traceback": [
            "\u001b[0;36m  File \u001b[0;32m\"<ipython-input-1-c6830012862b>\"\u001b[0;36m, line \u001b[0;32m1\u001b[0m\n\u001b[0;31m    int INDICE = 12, SOMA = 0, K = 1;\u001b[0m\n\u001b[0m        ^\u001b[0m\n\u001b[0;31mSyntaxError\u001b[0m\u001b[0;31m:\u001b[0m invalid syntax\n"
          ]
        }
      ],
      "source": [
        "int INDICE = 12, SOMA = 0, K = 1;\n",
        "enquanto K < INDICE faça {\n",
        "    K = K + 1;\n",
        "    SOMA = SOMA + K;\n",
        "}\n",
        "imprimir(SOMA);\n"
      ]
    }
  ]
}